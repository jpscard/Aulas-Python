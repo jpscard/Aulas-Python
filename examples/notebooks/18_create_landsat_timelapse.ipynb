{
  "cells": [
    {
      "cell_type": "markdown",
      "metadata": {
        "id": "lVcboN1D9mqI"
      },
      "source": [
        "<a href=\"https://githubtocolab.com/gee-community/geemap/blob/master/examples/notebooks/18_create_landsat_timelapse.ipynb\" target=\"_parent\"><img src=\"https://colab.research.google.com/assets/colab-badge.svg\" alt=\"Open in Colab\"/></a>\n",
        "\n",
        "Uncomment the following line to install [geemap](https://geemap.org) if needed."
      ],
      "id": "lVcboN1D9mqI"
    },
    {
      "cell_type": "code",
      "execution_count": null,
      "metadata": {
        "id": "4-DlEve39mqT"
      },
      "outputs": [],
      "source": [
        "# !pip install geemap"
      ],
      "id": "4-DlEve39mqT"
    },
    {
      "cell_type": "code",
      "execution_count": null,
      "metadata": {
        "id": "VI0sHUZM9mqX"
      },
      "outputs": [],
      "source": [
        "import geemap"
      ],
      "id": "VI0sHUZM9mqX"
    },
    {
      "cell_type": "code",
      "execution_count": null,
      "metadata": {
        "id": "DvDWcb3G9mqY"
      },
      "outputs": [],
      "source": [
        "geemap.show_youtube('OwjSJnGWKJs')"
      ],
      "id": "DvDWcb3G9mqY"
    },
    {
      "cell_type": "markdown",
      "metadata": {
        "id": "4W7tWbCu9mqZ"
      },
      "source": [
        "## Update the geemap package\n",
        "\n",
        "If you run into errors with this notebook, please uncomment the line below to update the [geemap](https://github.com/gee-community/geemap#installation) package to the latest version from GitHub.\n",
        "Restart the Kernel (Menu -> Kernel -> Restart) to take effect."
      ],
      "id": "4W7tWbCu9mqZ"
    },
    {
      "cell_type": "code",
      "execution_count": null,
      "metadata": {
        "id": "4NOZTGJ09mqa"
      },
      "outputs": [],
      "source": [
        "# geemap.update_package()"
      ],
      "id": "4NOZTGJ09mqa"
    },
    {
      "cell_type": "markdown",
      "metadata": {
        "id": "tma0loF19mqa"
      },
      "source": [
        "## Create an interactive map\n",
        "\n",
        "### Use the Drawing tool to draw a rectangle on the map"
      ],
      "id": "tma0loF19mqa"
    },
    {
      "cell_type": "code",
      "execution_count": null,
      "metadata": {
        "id": "YV95qNUD9mqc"
      },
      "outputs": [],
      "source": [
        "Map = geemap.Map()\n",
        "Map"
      ],
      "id": "YV95qNUD9mqc"
    },
    {
      "cell_type": "markdown",
      "metadata": {
        "id": "toYMDxAX9mqc"
      },
      "source": [
        "## Generate a Landsat timelapse animation"
      ],
      "id": "toYMDxAX9mqc"
    },
    {
      "cell_type": "code",
      "execution_count": null,
      "metadata": {
        "id": "Xq16h5vE9mqd"
      },
      "outputs": [],
      "source": [
        "import os\n",
        "\n",
        "out_dir = os.path.join(os.path.expanduser(\"~\"), 'Downloads')\n",
        "if not os.path.exists(out_dir):\n",
        "    os.makedirs(out_dir)"
      ],
      "id": "Xq16h5vE9mqd"
    },
    {
      "cell_type": "code",
      "execution_count": null,
      "metadata": {
        "id": "7xD24e369mqd"
      },
      "outputs": [],
      "source": [
        "label = 'Urban Growth in Las Vegas'\n",
        "Map.add_landsat_ts_gif(\n",
        "    label=label,\n",
        "    start_year=1985,\n",
        "    bands=['Red', 'Green', 'Blue'],\n",
        "    font_color='white',\n",
        "    frames_per_second=10,\n",
        "    progress_bar_color='blue',\n",
        ")"
      ],
      "id": "7xD24e369mqd"
    },
    {
      "cell_type": "markdown",
      "metadata": {
        "id": "Xh6FdtsD9mqe"
      },
      "source": [
        "## Create Landsat timeseries"
      ],
      "id": "Xh6FdtsD9mqe"
    },
    {
      "cell_type": "code",
      "execution_count": null,
      "metadata": {
        "id": "I3XD0_FD9mqe"
      },
      "outputs": [],
      "source": [
        "import os\n",
        "import ee\n",
        "import geemap"
      ],
      "id": "I3XD0_FD9mqe"
    },
    {
      "cell_type": "code",
      "execution_count": null,
      "metadata": {
        "id": "yNn5W80_9mqf"
      },
      "outputs": [],
      "source": [
        "Map = geemap.Map()\n",
        "Map"
      ],
      "id": "yNn5W80_9mqf"
    },
    {
      "cell_type": "markdown",
      "metadata": {
        "id": "lv1yLJtb9mqf"
      },
      "source": [
        "You and define an roi or draw a rectangle on the map"
      ],
      "id": "lv1yLJtb9mqf"
    },
    {
      "cell_type": "code",
      "execution_count": null,
      "metadata": {
        "id": "CDHwmkh09mqg"
      },
      "outputs": [],
      "source": [
        "roi = ee.Geometry.Polygon(\n",
        "    [\n",
        "        [\n",
        "            [-115.471773, 35.892718],\n",
        "            [-115.471773, 36.409454],\n",
        "            [-114.271283, 36.409454],\n",
        "            [-114.271283, 35.892718],\n",
        "            [-115.471773, 35.892718],\n",
        "        ]\n",
        "    ],\n",
        "    None,\n",
        "    False,\n",
        ")"
      ],
      "id": "CDHwmkh09mqg"
    },
    {
      "cell_type": "code",
      "execution_count": null,
      "metadata": {
        "id": "IkZGPKez9mqg"
      },
      "outputs": [],
      "source": [
        "# roi = Map.draw_last_feature"
      ],
      "id": "IkZGPKez9mqg"
    },
    {
      "cell_type": "code",
      "execution_count": null,
      "metadata": {
        "id": "mftpxr7m9mqg"
      },
      "outputs": [],
      "source": [
        "collection = geemap.landsat_timeseries(\n",
        "    roi=roi, start_year=1985, end_year=2019, start_date='06-10', end_date='09-20'\n",
        ")"
      ],
      "id": "mftpxr7m9mqg"
    },
    {
      "cell_type": "code",
      "execution_count": null,
      "metadata": {
        "id": "Ap_2-EhX9mqh"
      },
      "outputs": [],
      "source": [
        "print(collection.size().getInfo())"
      ],
      "id": "Ap_2-EhX9mqh"
    },
    {
      "cell_type": "code",
      "execution_count": null,
      "metadata": {
        "id": "HWiV8ez49mqh"
      },
      "outputs": [],
      "source": [
        "first_image = collection.first()\n",
        "\n",
        "vis = {'bands': ['NIR', 'Red', 'Green'], 'min': 0, 'max': 4000, 'gamma': [1, 1, 1]}\n",
        "\n",
        "Map.addLayer(first_image, vis, 'First image')"
      ],
      "id": "HWiV8ez49mqh"
    },
    {
      "cell_type": "markdown",
      "metadata": {
        "id": "n-WA3yw79mqh"
      },
      "source": [
        "## Download ImageCollection as a GIF"
      ],
      "id": "n-WA3yw79mqh"
    },
    {
      "cell_type": "code",
      "execution_count": null,
      "metadata": {
        "id": "UsqOnzbi9mqh"
      },
      "outputs": [],
      "source": [
        "# Define arguments for animation function parameters.\n",
        "video_args = {\n",
        "    'dimensions': 768,\n",
        "    'region': roi,\n",
        "    'framesPerSecond': 10,\n",
        "    'bands': ['NIR', 'Red', 'Green'],\n",
        "    'min': 0,\n",
        "    'max': 4000,\n",
        "    'gamma': [1, 1, 1],\n",
        "}"
      ],
      "id": "UsqOnzbi9mqh"
    },
    {
      "cell_type": "code",
      "execution_count": null,
      "metadata": {
        "id": "URDe0f2c9mqi"
      },
      "outputs": [],
      "source": [
        "work_dir = os.path.join(os.path.expanduser(\"~\"), 'Downloads')\n",
        "if not os.path.exists(work_dir):\n",
        "    os.makedirs(work_dir)\n",
        "out_gif = os.path.join(work_dir, \"landsat_ts.gif\")"
      ],
      "id": "URDe0f2c9mqi"
    },
    {
      "cell_type": "code",
      "execution_count": null,
      "metadata": {
        "id": "wMsC8B229mqi"
      },
      "outputs": [],
      "source": [
        "geemap.download_ee_video(collection, video_args, out_gif)"
      ],
      "id": "wMsC8B229mqi"
    },
    {
      "cell_type": "markdown",
      "metadata": {
        "id": "OnN7DkQ79mqi"
      },
      "source": [
        "## Add animated text to GIF"
      ],
      "id": "OnN7DkQ79mqi"
    },
    {
      "cell_type": "code",
      "execution_count": null,
      "metadata": {
        "id": "OTR9fC-X9mqi"
      },
      "outputs": [],
      "source": [
        "geemap.show_image(out_gif)"
      ],
      "id": "OTR9fC-X9mqi"
    },
    {
      "cell_type": "code",
      "execution_count": null,
      "metadata": {
        "id": "t37MpHlC9mqi"
      },
      "outputs": [],
      "source": [
        "texted_gif = os.path.join(work_dir, \"landsat_ts_text.gif\")\n",
        "geemap.add_text_to_gif(\n",
        "    out_gif,\n",
        "    texted_gif,\n",
        "    xy=('3%', '5%'),\n",
        "    text_sequence=1985,\n",
        "    font_size=30,\n",
        "    font_color='#ffffff',\n",
        "    add_progress_bar=False,\n",
        ")"
      ],
      "id": "t37MpHlC9mqi"
    },
    {
      "cell_type": "code",
      "execution_count": null,
      "metadata": {
        "id": "26gsm6MG9mqj"
      },
      "outputs": [],
      "source": [
        "label = 'Urban Growth in Las Vegas'\n",
        "geemap.add_text_to_gif(\n",
        "    texted_gif,\n",
        "    texted_gif,\n",
        "    xy=('2%', '88%'),\n",
        "    text_sequence=label,\n",
        "    font_size=30,\n",
        "    font_color='#ffffff',\n",
        "    progress_bar_color='cyan',\n",
        ")"
      ],
      "id": "26gsm6MG9mqj"
    },
    {
      "cell_type": "code",
      "execution_count": null,
      "metadata": {
        "id": "uX_rgl5-9mqj"
      },
      "outputs": [],
      "source": [
        "geemap.show_image(texted_gif)"
      ],
      "id": "uX_rgl5-9mqj"
    }
  ],
  "metadata": {
    "kernelspec": {
      "display_name": "Python 3",
      "language": "python",
      "name": "python3"
    },
    "colab": {
      "provenance": []
    }
  },
  "nbformat": 4,
  "nbformat_minor": 5
}