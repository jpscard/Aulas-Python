{
  "cells": [
    {
      "cell_type": "markdown",
      "metadata": {
        "id": "view-in-github",
        "colab_type": "text"
      },
      "source": [
        "<a href=\"https://colab.research.google.com/github/jpscard/Aulas-Python/blob/main/Aula_1_python.ipynb\" target=\"_parent\"><img src=\"https://colab.research.google.com/assets/colab-badge.svg\" alt=\"Open In Colab\"/></a>"
      ]
    },
    {
      "cell_type": "markdown",
      "metadata": {
        "id": "KN0zsEZGpPNx"
      },
      "source": [
        "# Aula 1 - parte 1: Visão geral de Python\n",
        "\n",
        "**Objetivos**: Apresentar uma visão geral da linguagem Python."
      ]
    },
    {
      "cell_type": "markdown",
      "metadata": {
        "id": "UBGyMNHqpPNy"
      },
      "source": [
        "Este material o auxiliará nas sessões de autoestudo, contudo, fique à vontade para consultar outras fontes de informações, mas nunca deixe de citá-las."
      ]
    },
    {
      "cell_type": "markdown",
      "source": [
        "# Python\n",
        "\n",
        "A linguagem de programação Python é atualmente (outubro/2021) a [mais popular](https://programadoresbrasil.com.br/2021/10/python-supera-java-javascript-linguagem-programacao-mais-popular/) no mundo das linguagens de programação.\n",
        "\n",
        "O vídeo abaixo apresenta uma visão geral da linguagem python.\n",
        "\n",
        "[![Visao Geral Python](https://img.youtube.com/vi/BusHZHlRS2k/hqdefault.jpg)](https://youtu.be/BusHZHlRS2k \"Visao Geral Python\")"
      ],
      "metadata": {
        "id": "CgzG06MvrG6p"
      }
    },
    {
      "cell_type": "markdown",
      "metadata": {
        "id": "_Ie5M-v1pPNz"
      },
      "source": [
        "## [Perguntas Frequentes Sobre Programação](https://wiki.python.org.br/PerguntasFrequentes/SobreProgramacao)"
      ]
    },
    {
      "cell_type": "markdown",
      "metadata": {
        "id": "Q0IeS9S5r554"
      },
      "source": [
        "## [Perguntas Frequentes Sobre Python](https://wiki.python.org.br/PerguntasFrequentes/SobrePython)"
      ]
    },
    {
      "cell_type": "markdown",
      "metadata": {
        "id": "suMHLmRcpPNz"
      },
      "source": [
        "# Preparando o seu Ambiente para usar Python para Data Science | Conda, Anaconda, pip, Spyder...\n",
        "\n",
        "[![ambiente](https://img.youtube.com/vi/ln4gqk6dS8E/hqdefault.jpg)](https://youtu.be/ln4gqk6dS8E \"ambiente\")"
      ]
    },
    {
      "cell_type": "markdown",
      "source": [
        "# Para aprender a usar o COLAB playlist completa\n",
        "\n",
        "[![ambiente](data:image/jpeg;base64,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)](https://www.youtube.com/playlist?list=PLA83b1JHN4ly56Y7o6vDAT8Szxc3_EdRH \"COLAB\")"
      ],
      "metadata": {
        "id": "0R-4FpO48iDj"
      }
    },
    {
      "cell_type": "markdown",
      "metadata": {
        "id": "3DJ_xKqBpPN0"
      },
      "source": [
        "# Variáveis\n",
        "Assista o vídeo abaixo e vá executando as células deste notebook conforme a sequência do vídeo:\n",
        "\n",
        "[![valores e tipos de valores](https://img.youtube.com/vi/UZ7_oudJ150/hqdefault.jpg)](https://youtu.be/UZ7_oudJ150 \"valores e tipos de valores\")\n",
        "\n",
        "Execute as células abaixo e comente o que cada uma faz:"
      ]
    },
    {
      "cell_type": "code",
      "execution_count": 3,
      "metadata": {
        "id": "bdF5ihQepPN1",
        "outputId": "3d4bd7ee-c506-49f7-ddeb-36e2f49e6a5b",
        "colab": {
          "base_uri": "https://localhost:8080/"
        }
      },
      "outputs": [
        {
          "output_type": "execute_result",
          "data": {
            "text/plain": [
              "int"
            ]
          },
          "metadata": {},
          "execution_count": 3
        }
      ],
      "source": [
        "# função que exibe o tipo da variável.\n",
        "type(10)"
      ]
    },
    {
      "cell_type": "code",
      "execution_count": null,
      "metadata": {
        "id": "Oqu9scXTpPN2"
      },
      "outputs": [],
      "source": [
        "# comente aqui o que faz?\n",
        "type(\"tudo bem\")"
      ]
    },
    {
      "cell_type": "code",
      "execution_count": null,
      "metadata": {
        "id": "vkAskx_7pPN2"
      },
      "outputs": [],
      "source": [
        "# comente aqui o que faz?\n",
        "type(5/2)"
      ]
    },
    {
      "cell_type": "code",
      "execution_count": null,
      "metadata": {
        "id": "pkh9zBVrpPN2"
      },
      "outputs": [],
      "source": [
        "# comente aqui o que faz?\n",
        "10/3"
      ]
    },
    {
      "cell_type": "code",
      "execution_count": null,
      "metadata": {
        "id": "Amu5lIX8pPN2"
      },
      "outputs": [],
      "source": [
        "# comente aqui o que faz?\n",
        "10//3"
      ]
    },
    {
      "cell_type": "code",
      "execution_count": 10,
      "metadata": {
        "id": "Gy8GBdyapPN3",
        "outputId": "89249c50-1e42-4104-873f-52f03232f2c0",
        "colab": {
          "base_uri": "https://localhost:8080/"
        }
      },
      "outputs": [
        {
          "output_type": "execute_result",
          "data": {
            "text/plain": [
              "1"
            ]
          },
          "metadata": {},
          "execution_count": 10
        }
      ],
      "source": [
        "# comente aqui o que faz?\n",
        "10%3"
      ]
    },
    {
      "cell_type": "code",
      "execution_count": 13,
      "metadata": {
        "id": "X6Lxr6XEpPN3",
        "outputId": "d90223b3-7075-4358-f3c5-611a5047afd5",
        "colab": {
          "base_uri": "https://localhost:8080/"
        }
      },
      "outputs": [
        {
          "output_type": "execute_result",
          "data": {
            "text/plain": [
              "23.291229956104985"
            ]
          },
          "metadata": {},
          "execution_count": 13
        }
      ],
      "source": [
        "# comente aqui o que faz?\n",
        "peso=78\n",
        "altura=1.83\n",
        "IMC=peso/(altura**2)\n",
        "IMC"
      ]
    },
    {
      "cell_type": "code",
      "execution_count": 14,
      "metadata": {
        "id": "CzI6dC0ypPN3",
        "outputId": "7198b4bf-86c7-4caa-c7fc-a9429ddae18a",
        "colab": {
          "base_uri": "https://localhost:8080/"
        }
      },
      "outputs": [
        {
          "output_type": "execute_result",
          "data": {
            "text/plain": [
              "float"
            ]
          },
          "metadata": {},
          "execution_count": 14
        }
      ],
      "source": [
        "# comente aqui o que faz?\n",
        "type(IMC)"
      ]
    },
    {
      "cell_type": "code",
      "execution_count": null,
      "metadata": {
        "id": "sJW9j5bHpPN4"
      },
      "outputs": [],
      "source": [
        "# comente aqui o que faz?\n",
        "IMCInteiro=int(IMC)\n",
        "IMCInteiro"
      ]
    },
    {
      "cell_type": "code",
      "execution_count": null,
      "metadata": {
        "id": "sQWboIMCpPN4"
      },
      "outputs": [],
      "source": [
        "# comente aqui o que faz?\n",
        "type(IMCInteiro)"
      ]
    },
    {
      "cell_type": "code",
      "execution_count": null,
      "metadata": {
        "id": "UU5tD7sppPN4"
      },
      "outputs": [],
      "source": [
        "# comente aqui o que faz?\n",
        "texto=\"Bom dia, tudo bem?\""
      ]
    },
    {
      "cell_type": "code",
      "execution_count": null,
      "metadata": {
        "id": "wT8cAdiEpPN4"
      },
      "outputs": [],
      "source": [
        "# comente aqui o que faz?\n",
        "len(texto)"
      ]
    },
    {
      "cell_type": "code",
      "execution_count": null,
      "metadata": {
        "id": "9jqoWQfApPN4"
      },
      "outputs": [],
      "source": [
        "# comente aqui o que faz?\n",
        "len(IMC)"
      ]
    },
    {
      "cell_type": "code",
      "execution_count": null,
      "metadata": {
        "id": "4jt2LG2tpPN5"
      },
      "outputs": [],
      "source": [
        "# comente aqui o que faz?\n",
        "len(str(IMC))"
      ]
    },
    {
      "cell_type": "markdown",
      "source": [
        "# 1 Desafio: Crie uma calculadora de IMC exibindo as classes conforme a tabela\n",
        "![image.png](data:image/png;base64,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)"
      ],
      "metadata": {
        "id": "ORE29MiKA1jN"
      }
    },
    {
      "cell_type": "code",
      "source": [
        "while True:\n",
        "    # Entrada de dados para o peso\n",
        "    peso = input(\"Digite o seu peso: \")\n",
        "    try:\n",
        "        peso = float(peso)\n",
        "        break\n",
        "    except ValueError:\n",
        "        print(\"Entrada inválida. Por favor, digite um peso valido\")\n",
        "print('--------------------')\n",
        "while True:\n",
        "    altura = input(\"Digite a sua altura: \")\n",
        "    try:\n",
        "        altura = float(altura)\n",
        "        break\n",
        "    except ValueError:\n",
        "        print(\"Entrada inválida. Por favor, digite um peso valido\")\n",
        "print('--------------------')\n",
        "print(f\"Você digitou: Peso: {peso} kg e altura: {altura} cm\")\n",
        "print('--------------------')\n",
        "\n",
        "# Fórmula do IMC\n",
        "IMC = peso/(altura**2)\n",
        "IMC = round(IMC, 2)\n",
        "\n",
        "print('O valor do seu IMC é:', IMC)\n",
        "print('--------------------')\n",
        "# condicional\n",
        "if IMC < 18.5:\n",
        "    print('Sua condição é: abaixo do peso')\n",
        "elif IMC >= 18.6 and IMC <= 24.9:\n",
        "    print('Sua condição é: Peso ideal (Parabéns!)')\n",
        "elif IMC >= 25.0 and IMC <= 29.9:\n",
        "    print('Sua condição é: Levemente acima do peso')\n",
        "elif IMC >= 30.0 and IMC <= 34.9:\n",
        "    print('Sua condição é: Obesidade grau I')\n",
        "elif IMC >= 35.0 and IMC <= 39.9:\n",
        "    print('Sua condição é: Obesidade grau II (severa)')\n",
        "else:\n",
        "    print('Sua condição é: Obesidade grau III (mórbida)')"
      ],
      "metadata": {
        "id": "UxEqEP4n_rtr",
        "outputId": "e9ac7890-7d41-4474-ef7e-7b18ff4ab78a",
        "colab": {
          "base_uri": "https://localhost:8080/"
        }
      },
      "execution_count": 53,
      "outputs": [
        {
          "output_type": "stream",
          "name": "stdout",
          "text": [
            "Digite o seu peso: 180\n",
            "--------------------\n",
            "Digite a sua altura: 1.60\n",
            "--------------------\n",
            "Você digitou: Peso: 180.0 kg e altura: 1.6 cm\n",
            "--------------------\n",
            "O valor do seu IMC é: 70.31\n",
            "--------------------\n",
            "Sua condição é: Obesidade grau III (mórbida)\n"
          ]
        }
      ]
    },
    {
      "cell_type": "markdown",
      "metadata": {
        "id": "087BNCLWpPN5"
      },
      "source": [
        "Além dos tipos de variáveis apresentadas no vídeo, pesquise quais outros existem na linguagem Python?     \n",
        "### [Documentação Python](https://docs.python.org/pt-br/3/)"
      ]
    },
    {
      "cell_type": "markdown",
      "metadata": {
        "id": "t_X_uMrXpPN5"
      },
      "source": [
        "# Operadores Aritméticos\n",
        "Assista o vídeo abaixo e vá executando as células deste notebook conforme a sequência do vídeo:\n",
        "\n",
        "[![tipos booleanos e precedência de operadores](https://img.youtube.com/vi/sgfmuFRZuWs/hqdefault.jpg)](https://youtu.be/sgfmuFRZuWs \"tipos booleanos e precedência de operadores\")   \n",
        "Execute as células abaixo:"
      ]
    },
    {
      "cell_type": "code",
      "execution_count": null,
      "metadata": {
        "id": "VZCobsWMpPN5"
      },
      "outputs": [],
      "source": [
        "5 > 3"
      ]
    },
    {
      "cell_type": "code",
      "execution_count": null,
      "metadata": {
        "id": "LcFKYeLQpPN5"
      },
      "outputs": [],
      "source": [
        "18 == 9 * 2"
      ]
    },
    {
      "cell_type": "code",
      "execution_count": null,
      "metadata": {
        "id": "OsMIXUsopPN6"
      },
      "outputs": [],
      "source": [
        "x = 12312\n",
        "x < 0"
      ]
    },
    {
      "cell_type": "code",
      "execution_count": null,
      "metadata": {
        "id": "Sb5zEr_3pPN6"
      },
      "outputs": [],
      "source": [
        "type(False)"
      ]
    },
    {
      "cell_type": "code",
      "execution_count": null,
      "metadata": {
        "id": "2HN9QUoxpPN6"
      },
      "outputs": [],
      "source": [
        "type(x > 0)"
      ]
    },
    {
      "cell_type": "code",
      "execution_count": null,
      "metadata": {
        "id": "TKThkod1pPN6"
      },
      "outputs": [],
      "source": [
        "x > 0 and x **2 > 100"
      ]
    },
    {
      "cell_type": "code",
      "execution_count": null,
      "metadata": {
        "id": "7eTJUrBtpPN6"
      },
      "outputs": [],
      "source": [
        "x < 0 and x == 12312"
      ]
    },
    {
      "cell_type": "code",
      "execution_count": null,
      "metadata": {
        "id": "Zi3Q5IxhpPN6"
      },
      "outputs": [],
      "source": [
        "x < 0 or x == 12312"
      ]
    },
    {
      "cell_type": "code",
      "execution_count": null,
      "metadata": {
        "id": "9ThBe9iIpPN7"
      },
      "outputs": [],
      "source": [
        "x > 0"
      ]
    },
    {
      "cell_type": "code",
      "execution_count": null,
      "metadata": {
        "id": "WuSkeDgXpPN7"
      },
      "outputs": [],
      "source": [
        "not x > 0"
      ]
    },
    {
      "cell_type": "code",
      "execution_count": null,
      "metadata": {
        "id": "UwF3Yt5TpPN7"
      },
      "outputs": [],
      "source": [
        "not False"
      ]
    },
    {
      "cell_type": "code",
      "execution_count": null,
      "metadata": {
        "id": "0017x2WSpPN7"
      },
      "outputs": [],
      "source": [
        "fizerSol = True\n",
        "forFeriado = False\n",
        "vouParaPraia = fizerSol and forFeriado\n",
        "vouParaPraia"
      ]
    },
    {
      "cell_type": "code",
      "execution_count": null,
      "metadata": {
        "id": "r3ZNKCPapPN7"
      },
      "outputs": [],
      "source": [
        "paitrocinio = False\n",
        "rolarPromocao = True\n",
        "vouAoShow = paitrocinio or rolarPromocao\n",
        "vouAoShow"
      ]
    },
    {
      "cell_type": "code",
      "execution_count": null,
      "metadata": {
        "id": "DUQ-D0BcpPN9"
      },
      "outputs": [],
      "source": [
        "y = 50\n",
        "x > 0 and not y == 50 or x + y == 150"
      ]
    },
    {
      "cell_type": "markdown",
      "metadata": {
        "id": "3f09xhpPpPN9"
      },
      "source": [
        "# Tipos booleanos e precedência de operadores\n",
        "\n",
        "[![tipos booleanos e precedência de operadores](https://img.youtube.com/vi/sgfmuFRZuWs/hqdefault.jpg)](https://youtu.be/sgfmuFRZuWs \"tipos booleanos e precedência de operadores\")   "
      ]
    },
    {
      "cell_type": "markdown",
      "metadata": {
        "id": "56aNUFSOpPN9"
      },
      "source": [
        "# Lista e vetores\n",
        "\n",
        "Lista, também como conhecido como *list*, é uma estrutura de dados que possui nenhum, um ou mais itens, que estão ordenados. Os itens são conhecidos também como elementos. Ela é **flexível**, ou seja, podemos adicionar novos itens na lista, podemos alterar itens existentes, podemos remover itens da lista, tudo isto de forma dinâmica.\n",
        "\n",
        "Em Python, uma lista é representada por uma sequência de itens, separados por vírgula e dentro de colchetes `[]`. Uma lista vazia é representada por colchetes sem nenhuma informação presente entre os colchetes.\n",
        "\n",
        "* Fatiar (`[1:3]`)\n",
        "* Buscar elementos (`[0]`)\n",
        "* Comprimento (`len(list)`)\n",
        "* Adicionar elementos (`list.append()`)\n",
        "* Compreensão de lista (`[x for elemento in lista]`)\n",
        "\n",
        "Assista o vídeo abaixo e executando as células deste notebook conforme a sequência do vídeo:\n",
        "\n",
        "[![Coleções (listas, vetores)](https://img.youtube.com/vi/krVca97F13I/hqdefault.jpg)](https://youtu.be/krVca97F13I \"Coleções (listas, vetores)\")"
      ]
    },
    {
      "cell_type": "code",
      "execution_count": null,
      "metadata": {
        "id": "bqKONEHnpPN9"
      },
      "outputs": [],
      "source": [
        "lista_vazia = []\n",
        "lista_num = [1, 2, 3, 4, 5, 6]\n",
        "lista_mista = [1, 2, 'UNINOVE', 4, 'com', 6, 'Você', True, None]"
      ]
    },
    {
      "cell_type": "markdown",
      "metadata": {
        "id": "L22caU5VpPN-"
      },
      "source": [
        "# Manipulação de listas\n",
        "\n",
        "\n",
        "[![Manipulação de listas)](https://img.youtube.com/vi/LrXapVI66so/hqdefault.jpg)](https://youtu.be/LrXapVI66so \"Coleções (Manipulação de listas)\")"
      ]
    },
    {
      "cell_type": "markdown",
      "metadata": {
        "id": "6vQLlQkBpPN-"
      },
      "source": [
        "# Matrizes\n",
        "\n",
        "\n",
        "[![Matrizes)](https://img.youtube.com/vi/c9yjwWNiNQw/hqdefault.jpg)](https://youtu.be/c9yjwWNiNQw \"Matrizes\")"
      ]
    },
    {
      "cell_type": "markdown",
      "metadata": {
        "id": "uRYNZLJopPN-"
      },
      "source": [
        "## Tuplas(`tuple`)\n",
        "Uma tupla é uma coleção de objetos Python separados por vírgulas. De alguma maneira, uma tupla é semelhante a uma lista em termos de indexação e repetição, mas uma tupla é **imutável**, diferentemente de listas que são **mutáveis**.\n",
        "\n",
        "* Fatiar (`[1:3]`)\n",
        "* Buscar elementos (`[0]`)\n",
        "* Comprimento (`len(tuple)`)"
      ]
    },
    {
      "cell_type": "code",
      "execution_count": null,
      "metadata": {
        "id": "BpJyu054pPN_"
      },
      "outputs": [],
      "source": [
        "tupla_vazia = ()\n",
        "tupla_num = (1, 2, 3, 4, 5, 6)\n",
        "tupla_mista = (1, 2, 'UNINOVE', 4, 'com', 6, 'Você', True, None)"
      ]
    },
    {
      "cell_type": "markdown",
      "metadata": {
        "id": "B4tLNMktpPN_"
      },
      "source": [
        "## Dicionários (`dictionary`)\n",
        "\n",
        "O dicionário em Python é uma coleção não ordenada de valores de dados, usada para armazenar valores de dados como um mapa, que, diferentemente de outros tipos de dados que mantêm apenas um valor único como elemento, o Dictionary mantém um **par chave: valor**. O valor da chave é fornecido no dicionário para torná-lo mais otimizado.\n",
        "\n",
        "* Chave(`key`)\n",
        "* Valor(`value`)"
      ]
    },
    {
      "cell_type": "code",
      "execution_count": null,
      "metadata": {
        "id": "uRtvRluapPN_"
      },
      "outputs": [],
      "source": [
        "dict_vazio = {}\n",
        "dicionario = {\n",
        "    1: 'UNINOVE',\n",
        "    2: 'com você',\n",
        "    3: 'é 10',\n",
        "    4: 'você está',\n",
        "    5: 'aprendendo Python',\n",
        "    6: 'bem rápido',\n",
        "    'nome da chave': 'valor da chave'\n",
        "}"
      ]
    },
    {
      "cell_type": "markdown",
      "metadata": {
        "id": "nlggOF0ZpPOA"
      },
      "source": [
        "# Desvios Condicionais `if` `else` `efif`\n",
        "\n",
        "Uma sequência de testes de seleção, os quais serão executados ou não de acordo com o resultado das condições e de acordo com o encadeamento dos testes.\n",
        "\n",
        "[![Condicionais)](https://img.youtube.com/vi/ngeVlLJ250s/hqdefault.jpg)](https://youtu.be/ngeVlLJ250s \"Condicionais\")\n"
      ]
    },
    {
      "cell_type": "code",
      "execution_count": null,
      "metadata": {
        "id": "FEWoP8aupPOA",
        "outputId": "7547fecc-8b7e-46c6-914c-9a32e022010c"
      },
      "outputs": [
        {
          "data": {
            "text/plain": [
              "True"
            ]
          },
          "execution_count": 3,
          "metadata": {},
          "output_type": "execute_result"
        }
      ],
      "source": [
        "temperatura = 102\n",
        "if temperatura > 100:\n",
        "    aguaferve = True\n",
        "\n",
        "aguaferve"
      ]
    },
    {
      "cell_type": "code",
      "execution_count": null,
      "metadata": {
        "id": "MWRYVallpPOB"
      },
      "outputs": [],
      "source": [
        "if temperatura > 100:\n",
        "    aguaferve = True\n",
        "    evaporação = \"muito rápida\""
      ]
    },
    {
      "cell_type": "markdown",
      "metadata": {
        "id": "LsRwW56-pPOC"
      },
      "source": [
        "# Estrutura de Repetição `while`\n",
        "\n",
        "A estrutura de repetição `while` a condição de repetição é verificada antes de entrar no laço de repetição, isto é, se o resultado for verdadeiro, o bloco de instrução será executado. Enquanto o valor da condição for verdadeiro, as ações dos comandos são executadas. No momento em que a condição se torna falsa, o processamento da rotina é desviado para fora do laço. Se a condição for falsa logo de início, os comandos não são executados nenhuma vez.\n",
        "\n",
        "[![while)](https://img.youtube.com/vi/TllYO06DpUk/hqdefault.jpg)](https://youtu.be/TllYO06DpUk \"while\")"
      ]
    },
    {
      "cell_type": "markdown",
      "metadata": {
        "id": "gyHp9dGBpPOC"
      },
      "source": [
        "## Estrutura de Repetição `for`\n",
        "\n",
        "Com a estrutura de repetição `for` podemos executar um determinado conjunto de instruções certo número de vezes. Além disso, este tipo de estrutura prevê uma condição e limites fixos.\n",
        "\n",
        "A estrutura for é utilizada quando precisamos repetir um conjunto de comandos um número pré-definido de vezes.\n",
        "\n",
        "[![for)](https://img.youtube.com/vi/ctmPwp52b7w/hqdefault.jpg)](https://youtu.be/ctmPwp52b7w \"for\")"
      ]
    },
    {
      "cell_type": "markdown",
      "metadata": {
        "id": "uP4l9GVKpPOC"
      },
      "source": [
        "### `for` em dicionários\n",
        "\n",
        "```python\n",
        "for key,value in dicionario.items():\n",
        "    print(key, value)\n",
        "```"
      ]
    },
    {
      "cell_type": "markdown",
      "metadata": {
        "id": "lytFK0ewpPOC"
      },
      "source": [
        "## Funções em Python (`function`)\n",
        "\n",
        "Podem ter argumentos ou não.\n",
        "\n",
        "[![funções)](https://img.youtube.com/vi/AMUxtcJ8yfc/hqdefault.jpg)](https://youtu.be/AMUxtcJ8yfc \"funções\")\n"
      ]
    },
    {
      "cell_type": "markdown",
      "metadata": {
        "id": "Valges6ypPOD"
      },
      "source": [
        "# Strings\n",
        "\n",
        "[![string)](https://img.youtube.com/vi/DdhNltkI_hE/hqdefault.jpg)](https://youtu.be/DdhNltkI_hE \"string\")\n",
        "\n",
        "# Comparações de Strings\n",
        "\n",
        "[![string2)](https://img.youtube.com/vi/EWQTdbtCtKw/hqdefault.jpg)](https://youtu.be/EWQTdbtCtKw \"string2\")\n"
      ]
    },
    {
      "cell_type": "markdown",
      "metadata": {
        "id": "jwueBfMKpPOD"
      },
      "source": [
        "# Orientação à Objetos\n",
        "\n",
        "[![OOp1)](https://img.youtube.com/vi/frtaUi3B6Sc/hqdefault.jpg)](https://youtu.be/frtaUi3B6Sc \"OOp1\")\n",
        "\n",
        "\n",
        "[![OOp2)](https://img.youtube.com/vi/LsbakVX54RY/hqdefault.jpg)](https://youtu.be/LsbakVX54RY \"OOp2\")\n"
      ]
    },
    {
      "cell_type": "markdown",
      "metadata": {
        "id": "dDKPhBdrpPOD"
      },
      "source": [
        "# Módulos em python\n",
        "\n",
        "* `import <library>`\n",
        "* `import <library> as xx`\n",
        "* `from <library> import *`\n",
        "* `from <library> import yy`\n",
        "\n",
        "[![módulos)](https://img.youtube.com/vi/6rSUPRZJFRM/hqdefault.jpg)](https://youtu.be/6rSUPRZJFRM \"módulos\")\n"
      ]
    },
    {
      "cell_type": "markdown",
      "metadata": {
        "id": "g4kvC083pPOD"
      },
      "source": [
        "# Python na nuvem\n",
        "\n",
        "* Explore a plataforma [Repl.it](https://replit.com/)"
      ]
    },
    {
      "cell_type": "markdown",
      "metadata": {
        "id": "RMqtqmvfpPOE"
      },
      "source": [
        "# Quer saber mais\n",
        "* Faço o curso [Python - 80h](https://eucapacito.com.br/curso-ec/python/) do projeto EuCapacito;    \n",
        "\n",
        "* Explore o portal [Python para todos](https://sites.google.com/view/projetopythonparatodos) e veja toda a [PlayList](https://www.youtube.com/playlist?list=PLH9knZH6lcgo0ndsXfwX0CGO_ad1t6cSO)  do prof. Anibal Azevedo\n",
        "\n",
        "* Explore o material do curso [Aulas de Introdução à Computação em Python](https://panda.ime.usp.br/aulasPython/static/aulasPython/index.html) do IME-USP, nele é possível você executar os códigos na própria página do curso;   \n",
        "\n",
        "* Veja toda a [PlayList](https://www.youtube.com/watch?v=UZ7_oudJ150&list=PLcoJJSvnDgcKpOi_UeneTNTIVOigRQwcn&index=9) do prof. Fábio Kon.\n",
        "\n",
        "* Veja o curso grátis [Python Fundamentos Para Análise de Dados 3.0](https://www.datascienceacademy.com.br/course/python-fundamentos) da DSA.\n",
        "\n",
        "* Veja a [PlayList](https://www.youtube.com/watch?v=8UfIDvWjKO0&list=PLLrlHSmC0Mw6LozInZxlkMrkiJ_eLLyrL) do prof. Thiago Ferreira.\n",
        "\n",
        "* Veja a [PlayList](https://www.youtube.com/watch?v=2KmYQWLkqOM&list=PL7OlISixQYm5gHmnIroBbC9BcVK_ajLoe) do prof. Alexandre Levada\n",
        "\n",
        "* Execute os [notebooks](https://github.com/storopoli/ciencia-de-dados) dos Professores Storopoli e Souza\n",
        "\n",
        "* Veja essas biblioteca:\n",
        "    - [Python library for reliability engineering and survival analysis](https://reliability.readthedocs.io/en/latest/)\n",
        "\n",
        "    - [NetworkX](https://networkx.org/documentation/stable/auto_examples/index.html)\n",
        "    \n",
        "* Assista ao vídeo: Como fazer análise exploratória de dados em Python com o Seaborn\n",
        "\n",
        "[![seaborn)](https://img.youtube.com/vi/pNEdz-UfWh4/hqdefault.jpg)](https://youtu.be/pNEdz-UfWh4 \"seaborn\")\n",
        "\n",
        "* Veja [How to Self Learn Data Science in 2022](https://www.visual-design.net/post/how-to-self-learn-data-science)\n",
        "\n",
        "* Leia o artigo [Onde aprender Python de graça?](https://felipegalvao.com.br/pt/blog/where-to-learn-python-for-free/) de Felipe Galvao e aproveite para explorar o seu blog\n",
        "\n",
        "* Leia os artigos e procure reproduzir os códigos:   \n",
        "    - [Bernoulli Distribution — Probability Tutorial with Python](https://pub.towardsai.net/bernoulli-distribution-probability-tutorial-with-python-90061ee078a);\n",
        "    - [Descriptive Statistics for Data-driven Decision Making with Python](https://towardsai.net/p/statistics/descriptive-statistics-21fc0196c1df)\n",
        "    \n",
        "* Explore o github [tutorials](https://github.com/towardsai/tutorials)\n",
        "\n",
        "* Leia os artigos:\n",
        "    - [Entendendo Ambientes Virtuais em Python](https://code.tutsplus.com/pt/tutorials/understanding-virtual-environments-in-python--cms-28272)   \n",
        "    - [Como Sair do ZERO no Python em APENAS UMA AULA](https://www.youtube.com/watch?v=GQpQha2Mfpg)  \n",
        "    \n",
        "* Explore o canal [New Course Applied Statistics with Python Introduction](https://www.youtube.com/watch?v=BIA4ACfnQeA&list=PLsugXK9b1w1k1UCiZnfKE40tHZYR3WA0r)  \n",
        "\n",
        "* Explore o [Cheat Sheet For Beginners](https://res.cloudinary.com/dyd911kmh/image/upload/f_auto,q_auto:best/v1620781328/Python_For_Data_Science_-_A_Cheat_Sheet_For_Beginners_igzrny.png)   \n",
        "\n",
        "* Assista ao vídeo [Python do Zero: Detectando fraudes](https://videos.netshow.me/v/VOaaVbCl99I)\n",
        "\n",
        "\n",
        "# O Futuro do Trabalho: 10 habilidades que vão estar em alta até 2025\n",
        "\n",
        "* Segundo o relatório [Future of Jobs: The top 10 skills to be developed by 2025](http://www3.weforum.org/docs/WEF_Future_of_Jobs_2020.pdf), do Fórum Econômico Mundial, **Resolução de problemas** é a 3ª principal habilidade que estará em alta até 2025.   \n",
        "\n",
        "## Resolução de problemas\n",
        "\n",
        "Pesquise no artigo [COMPETÊNCIAS RELEVANTES PARA O PROFISSIONAL DO FUTURO - COMPETÊNCIAS LISTADAS PELO RELATÓRIO “THE FUTURE OF JOB” DO FÓRUM ECONÔMICO MUNDIAL E A PREVISÃO DE FUTURO DE YUVAL HARARI](https://semanaacademica.com.br/artigo/competencias-relevantes-para-o-profissional-do-futuro-competencias-listadas-pelo-relatorio-do) por **Resolução de problemas**.   \n",
        "\n",
        "## Para saber mais\n",
        "\n",
        "“[...] Se tivesse uma hora para salvar o planeta, usaria 59 minutos para definir o problema e um para resolvê-lo”, disse Albert Einstein.\n",
        "\n",
        "Recomendamos a leitura do artigo **Você está resolvendo o problema certo** de Dwayne Spradlin, publicado na revista HBR Brasil em 09/2012.   \n",
        "\n",
        "O artigo apresenta um processo com 4 passos para a descrição completa de um problema que se está buscando resolver e dos requisitos que a solução deve cumprir. Segundo o autor \"[...] a ideia de fazer perguntas até chegar à raiz de um problema vem da célebre\n",
        "técnica de resolução de problemas dos **“5 porquês” criada na Toyota** e empregada no **Six Sigma**\".\n",
        "\n",
        "Cada um dos passos envolve responder uma série de questões. Click na figura abaixo e explore o mapa mental (click nas bolinhas para abrir/fechar os ramos do mapa) ...\n",
        "\n",
        "[<center><img src=\"https://github.com/jpscard/Aulas-Python/blob/main/images/pdp.png?raw=1\"></center>](https://nbviewer.org/github/vsvasconcelos/i2a2/blob/main/pdp.html)         \n",
        "\n",
        "\n",
        "\n",
        "* Assista aos vídeos:\n",
        "\n",
        "[![COMECE PELO PORQUÊ ](https://img.youtube.com/vi/SAJyyl5jTpo/hqdefault.jpg)](https://youtu.be/SAJyyl5jTpo \"COMECE PELO PORQUÊ \")\n",
        "\n",
        "   - The Deep Dive, o processo de criação da IDEO ...\n",
        "\n",
        "[<center><img src=\"https://github.com/jpscard/Aulas-Python/blob/main/images/deepdive.png?raw=1\"></center>](https://vimeo.com/7953312)         \n",
        "\n",
        "\n",
        "# Gosta de livros\n",
        "[Pense em Python - Allen B. Downey](https://penseallen.github.io/PensePython2e/)\n",
        "\n",
        "[Scientific Visualization: Python + Matplotlib - Nicolas P. Rougier, ](https://github.com/rougier/scientific-visualization-book)\n",
        "\n",
        "[Free python books](https://github.com/pamoroso/free-python-books)\n",
        "\n",
        "[Python Data Science Handbook - Jake VanderPlas](https://jakevdp.github.io/PythonDataScienceHandbook/)     \n",
        "\n",
        "[versão notebook](https://colab.research.google.com/github/jakevdp/PythonDataScienceHandbook/blob/master/notebooks/Index.ipynb#scrollTo=MpQmORfEjDIn)\n",
        "\n",
        "[Introdução a Computação em Python: Problemas e Aplicações - Alexandre L M Levada](https://www.researchgate.net/publication/343971915_Introducao_a_Computacao_em_Python_Problemas_e_Aplicacoes)"
      ]
    }
  ],
  "metadata": {
    "kernelspec": {
      "display_name": "Python 3",
      "language": "python",
      "name": "python3"
    },
    "language_info": {
      "codemirror_mode": {
        "name": "ipython",
        "version": 3
      },
      "file_extension": ".py",
      "mimetype": "text/x-python",
      "name": "python",
      "nbconvert_exporter": "python",
      "pygments_lexer": "ipython3",
      "version": "3.8.10"
    },
    "rise": {
      "autolaunch": true,
      "enable_chalkboard": true,
      "progress": true,
      "scroll": true,
      "slideNumber": true
    },
    "colab": {
      "provenance": [],
      "include_colab_link": true
    }
  },
  "nbformat": 4,
  "nbformat_minor": 0
}